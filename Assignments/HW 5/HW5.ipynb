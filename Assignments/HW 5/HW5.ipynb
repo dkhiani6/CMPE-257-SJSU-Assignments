{
  "nbformat": 4,
  "nbformat_minor": 0,
  "metadata": {
    "colab": {
      "name": "HW5.ipynb",
      "provenance": [],
      "collapsed_sections": [],
      "authorship_tag": "ABX9TyNHOmSDZcTqA0hRsZM53gbf",
      "include_colab_link": true
    },
    "kernelspec": {
      "name": "python3",
      "display_name": "Python 3"
    },
    "language_info": {
      "name": "python"
    }
  },
  "cells": [
    {
      "cell_type": "markdown",
      "metadata": {
        "id": "view-in-github",
        "colab_type": "text"
      },
      "source": [
        "<a href=\"https://colab.research.google.com/github/dkhiani6/CMPE-257-SJSU-Assignments/blob/main/Assignments/HW%205/HW5.ipynb\" target=\"_parent\"><img src=\"https://colab.research.google.com/assets/colab-badge.svg\" alt=\"Open In Colab\"/></a>"
      ]
    },
    {
      "cell_type": "markdown",
      "metadata": {
        "id": "LeDJ-UXG4_Wh"
      },
      "source": [
        "Please read:\n",
        "\n",
        "\n",
        "We have already defined the dataset below. And also have defined X_train and y_train. Please build a model and test it with X_test.\n",
        "\n",
        "You should build a neural network model in Keras."
      ]
    },
    {
      "cell_type": "code",
      "metadata": {
        "colab": {
          "base_uri": "https://localhost:8080/"
        },
        "id": "QUZDRi4MGnk0",
        "outputId": "a298a816-fd09-43a7-dc46-62e1cc35956c"
      },
      "source": [
        "from keras.datasets import mnist\n",
        "import numpy as np\n",
        "from keras.datasets import mnist\n",
        "from keras.models import Sequential\n",
        "from keras.layers import Dense\n",
        "from keras.layers import Dropout\n",
        "from keras.utils import np_utils\n",
        "(X_train, y_train), (X_test, y_test) = mnist.load_data()\n",
        "\n",
        "print(X_train.shape)\n",
        "print(y_train.shape)"
      ],
      "execution_count": null,
      "outputs": [
        {
          "output_type": "stream",
          "name": "stdout",
          "text": [
            "Downloading data from https://storage.googleapis.com/tensorflow/tf-keras-datasets/mnist.npz\n",
            "11493376/11490434 [==============================] - 0s 0us/step\n",
            "11501568/11490434 [==============================] - 0s 0us/step\n",
            "(60000, 28, 28)\n",
            "(60000,)\n"
          ]
        }
      ]
    },
    {
      "cell_type": "code",
      "metadata": {
        "colab": {
          "base_uri": "https://localhost:8080/",
          "height": 268
        },
        "id": "zWHgkj_-HcA2",
        "outputId": "352bfa74-fbfa-4446-896e-f9e80f834384"
      },
      "source": [
        "import matplotlib.pyplot as plt\n",
        "%matplotlib inline\n",
        "plt.subplot(221)\n",
        "plt.imshow(X_train[0], cmap=plt.get_cmap('gray'))\n",
        "plt.grid('off')\n",
        "plt.subplot(222)\n",
        "plt.imshow(X_train[1], cmap=plt.get_cmap('gray'))\n",
        "plt.grid('off')\n",
        "plt.subplot(223)\n",
        "plt.imshow(X_train[2], cmap=plt.get_cmap('gray'))\n",
        "plt.grid('off')\n",
        "plt.subplot(224)\n",
        "plt.imshow(X_train[3], cmap=plt.get_cmap('gray'))\n",
        "plt.grid('off')\n",
        "plt.show()"
      ],
      "execution_count": null,
      "outputs": [
        {
          "output_type": "display_data",
          "data": {
            "image/png": "[encoded data removed]",
            "text/plain": [
              "<Figure size 432x288 with 4 Axes>"
            ]
          },
          "metadata": {
            "needs_background": "light"
          }
        }
      ]
    },
    {
      "cell_type": "code",
      "metadata": {
        "id": "JBDMu7LfLzkB"
      },
      "source": [
        "# In the preceding code, we are importing the relevant Keras files and are also importing the MNIST dataset \n",
        "#(which is provided as a built-in dataset in Keras). \n",
        "\n",
        "# The MNIST dataset contains images of digits where the images are of 28 x 28 in shape. \n",
        "# You can see in the plots what they will look like."
      ],
      "execution_count": null,
      "outputs": []
    },
    {
      "cell_type": "code",
      "metadata": {
        "id": "dbfKR0j9L6ow"
      },
      "source": [
        "# 1. Import the relevant packages and datasets"
      ],
      "execution_count": null,
      "outputs": []
    },
    {
      "cell_type": "code",
      "metadata": {
        "id": "SQM-Kf_wL8o6"
      },
      "source": [
        "#2. Preprocess the targets (convert them into one-hot encoded vectors) so that we can perform optimization on top of them:\n",
        "# We shall be minimizing categorical cross entropy loss\n",
        "\n",
        "from sklearn import preprocessing\n",
        "encoded = preprocessing.OneHotEncoder()\n",
        "\n",
        "y_train = y_train.reshape(-1,1) \n",
        "y_test = y_test.reshape(-1,1)\n",
        "\n",
        "encoded.fit(y_train)\n",
        "y_train_en = encoded.transform(y_train).toarray()\n",
        "\n",
        "encoded.fit(y_test)\n",
        "y_test_en = encoded.transform(y_test).toarray()\n",
        "\n",
        "img_size = 28*28\n",
        "X_train = X_train.reshape(X_train.shape[0], img_size)\n",
        "X_test = X_test.reshape(X_test.shape[0], img_size)"
      ],
      "execution_count": null,
      "outputs": []
    },
    {
      "cell_type": "code",
      "metadata": {
        "id": "axlDIwPQMD45"
      },
      "source": [
        "#3. Initialize a model - 1 point"
      ],
      "execution_count": null,
      "outputs": []
    },
    {
      "cell_type": "code",
      "metadata": {
        "colab": {
          "base_uri": "https://localhost:8080/"
        },
        "id": "8j6WiBogMGb_",
        "outputId": "2c1ae971-af4d-438d-d1f2-8475d7bc79b5"
      },
      "source": [
        "model = Sequential()\n",
        "model.add(Dense(units=32, activation='relu', input_shape=(28*28,)))\n",
        "#model.add(Dense(units=10, activation='softmax')) # accuracy = 90%\n",
        "model.add(Dense(units=10, activation='sigmoid')) # accuracy = 92%\n",
        "\n",
        "model.compile(optimizer='adam', loss='categorical_crossentropy', metrics=['accuracy'])\n",
        "#model.compile(optimizer='sgd', loss='categorical_crossentropy', metrics=['accuracy'])\n",
        "model.summary()"
      ],
      "execution_count": null,
      "outputs": [
        {
          "output_type": "stream",
          "name": "stdout",
          "text": [
            "Model: \"sequential\"\n",
            "_________________________________________________________________\n",
            "Layer (type)                 Output Shape              Param #   \n",
            "=================================================================\n",
            "dense (Dense)                (None, 32)                25120     \n",
            "_________________________________________________________________\n",
            "dense_1 (Dense)              (None, 10)                330       \n",
            "=================================================================\n",
            "Total params: 25,450\n",
            "Trainable params: 25,450\n",
            "Non-trainable params: 0\n",
            "_________________________________________________________________\n"
          ]
        }
      ]
    },
    {
      "cell_type": "markdown",
      "metadata": {
        "id": "6HjlFU-vMQdU"
      },
      "source": [
        "Define the model architecture:\n",
        "Specify the number of units in a hidden layer Specify the activation function that is to be performed in a hidden layer Specify the number of hidden layers Specify the loss function that we want to minimize Provide the optimizer that will minimize the loss function"
      ]
    },
    {
      "cell_type": "markdown",
      "metadata": {
        "id": "zIKXOnd1ypqB"
      },
      "source": [
        "Number of units in hidden layer = 32\n",
        "\n",
        "Number of hidden layers = 1\n",
        "\n",
        "Activation function used in hidden layer = relu\n",
        "\n",
        "Loss function to be minimized = categorical cross entropy\n",
        "\n",
        "Optimizer used for minimization = ADAM "
      ]
    },
    {
      "cell_type": "code",
      "metadata": {
        "id": "mEyWHUvdMKIY"
      },
      "source": [
        "#5. Fit the model "
      ],
      "execution_count": null,
      "outputs": []
    },
    {
      "cell_type": "code",
      "metadata": {
        "colab": {
          "base_uri": "https://localhost:8080/"
        },
        "id": "RzKcqTZaMhT8",
        "outputId": "7889ea98-411c-421f-a557-bed590cffd1a"
      },
      "source": [
        "print(X_train.shape)\n",
        "print(y_train_en.shape)\n",
        "model.fit(X_train, y_train_en, epochs=5, verbose=False)"
      ],
      "execution_count": null,
      "outputs": [
        {
          "output_type": "stream",
          "name": "stdout",
          "text": [
            "(60000, 784)\n",
            "(60000, 10)\n"
          ]
        },
        {
          "output_type": "execute_result",
          "data": {
            "text/plain": [
              "<keras.callbacks.History at 0x7f374ea705d0>"
            ]
          },
          "metadata": {},
          "execution_count": 8
        }
      ]
    },
    {
      "cell_type": "code",
      "metadata": {
        "id": "xTk_fxxBMbn6"
      },
      "source": [
        "#6. Test the model\n",
        "#7. Calculate the accuracy and loss values on top of the test dataset - 2 points"
      ],
      "execution_count": null,
      "outputs": []
    },
    {
      "cell_type": "code",
      "metadata": {
        "colab": {
          "base_uri": "https://localhost:8080/"
        },
        "id": "AJIZNhzUMibK",
        "outputId": "55c9da21-4d1a-469f-c239-4dc1c78dc14e"
      },
      "source": [
        "loss, accuracy = model.evaluate(X_train, y_train_en, verbose=False)\n",
        "print(\"Training Accuracy : {:.2f}% and loss : {:.2f}%\".format(accuracy*100,loss*100))\n",
        "loss, accuracy = model.evaluate(X_test, y_test_en, verbose=False)\n",
        "print(\"Testing Accuracy : {:.2f}% and loss : {:.2f}%\".format(accuracy*100,loss*100))\n"
      ],
      "execution_count": null,
      "outputs": [
        {
          "output_type": "stream",
          "name": "stdout",
          "text": [
            "Training Accuracy : 91.93% and loss : 31.52%\n",
            "Testing Accuracy : 91.64% and loss : 36.50%\n"
          ]
        }
      ]
    },
    {
      "cell_type": "code",
      "metadata": {
        "id": "LPF2O4RbMe6R"
      },
      "source": [
        ""
      ],
      "execution_count": null,
      "outputs": []
    }
  ]
}