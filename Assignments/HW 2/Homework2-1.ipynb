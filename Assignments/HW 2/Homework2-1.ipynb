{
 "cells": [
  {
   "cell_type": "markdown",
   "metadata": {
    "id": "nGYZwqFjj0Bw"
   },
   "source": [
    "# CMPE 257 Homework 2"
   ]
  },
  {
   "cell_type": "markdown",
   "metadata": {
    "id": "arAFh8GIj0B_"
   },
   "source": [
    "## Question 1"
   ]
  },
  {
   "cell_type": "markdown",
   "metadata": {
    "id": "Aq8gtMYbj0CC"
   },
   "source": [
    "### a. Load dataset from csv file."
   ]
  },
  {
   "cell_type": "code",
   "execution_count": 12,
   "metadata": {
    "id": "kbdxXP5tj0CE"
   },
   "outputs": [
    {
     "name": "stdout",
     "output_type": "stream",
     "text": [
      "               0         1                   2            3               4  \\\n",
      "0      longitude  latitude  housing_median_age  total_rooms  total_bedrooms   \n",
      "1        -122.23     37.88                41.0        880.0           129.0   \n",
      "2        -122.22     37.86                21.0       7099.0          1106.0   \n",
      "3        -122.24     37.85                52.0       1467.0           190.0   \n",
      "4        -122.25     37.85                52.0       1274.0           235.0   \n",
      "...          ...       ...                 ...          ...             ...   \n",
      "20636    -121.09     39.48                25.0       1665.0           374.0   \n",
      "20637    -121.21     39.49                18.0        697.0           150.0   \n",
      "20638    -121.22     39.43                17.0       2254.0           485.0   \n",
      "20639    -121.32     39.43                18.0       1860.0           409.0   \n",
      "20640    -121.24     39.37                16.0       2785.0           616.0   \n",
      "\n",
      "                5           6              7                   8  \\\n",
      "0      population  households  median_income  median_house_value   \n",
      "1           322.0       126.0         8.3252            452600.0   \n",
      "2          2401.0      1138.0         8.3014            358500.0   \n",
      "3           496.0       177.0         7.2574            352100.0   \n",
      "4           558.0       219.0         5.6431            341300.0   \n",
      "...           ...         ...            ...                 ...   \n",
      "20636       845.0       330.0         1.5603             78100.0   \n",
      "20637       356.0       114.0         2.5568             77100.0   \n",
      "20638      1007.0       433.0            1.7             92300.0   \n",
      "20639       741.0       349.0         1.8672             84700.0   \n",
      "20640      1387.0       530.0         2.3886             89400.0   \n",
      "\n",
      "                     9  \n",
      "0      ocean_proximity  \n",
      "1             NEAR BAY  \n",
      "2             NEAR BAY  \n",
      "3             NEAR BAY  \n",
      "4             NEAR BAY  \n",
      "...                ...  \n",
      "20636           INLAND  \n",
      "20637           INLAND  \n",
      "20638           INLAND  \n",
      "20639           INLAND  \n",
      "20640           INLAND  \n",
      "\n",
      "[20641 rows x 10 columns]\n"
     ]
    },
    {
     "data": {
      "text/plain": [
       "20641"
      ]
     },
     "execution_count": 12,
     "metadata": {},
     "output_type": "execute_result"
    }
   ],
   "source": [
    "import pandas as pd\n",
    "import numpy as np\n",
    "import matplotlib.pyplot as plt\n",
    "import seaborn as sns\n",
    "import sklearn \n",
    "\n",
    "whole_data_set = pd.read_csv(\"datasetHW2.csv\", header=None, skipinitialspace=True)\n",
    "print(whole_data_set)\n",
    "len(whole_data_set)"
   ]
  },
  {
   "cell_type": "markdown",
   "metadata": {
    "id": "s57PIQWKj0CG"
   },
   "source": [
    "### b. Remove the header which is 0th row."
   ]
  },
  {
   "cell_type": "code",
   "execution_count": 13,
   "metadata": {
    "id": "Wn1DoWrPj0CI"
   },
   "outputs": [
    {
     "name": "stdout",
     "output_type": "stream",
     "text": [
      "20640\n"
     ]
    }
   ],
   "source": [
    "data_set = whole_data_set.iloc[1:,:]\n",
    "print(len(data_set))"
   ]
  },
  {
   "cell_type": "markdown",
   "metadata": {
    "id": "BC9srdJnj0CQ"
   },
   "source": [
    "### c. Split the dataset into 70:30 training set and test set (non-repetitive random selection)."
   ]
  },
  {
   "cell_type": "code",
   "execution_count": 14,
   "metadata": {
    "id": "WL89z-76j0CU"
   },
   "outputs": [
    {
     "name": "stdout",
     "output_type": "stream",
     "text": [
      "20640\n",
      "14448 6192\n"
     ]
    }
   ],
   "source": [
    "data = data_set.drop_duplicates(keep='first')  # we are removing duplicates from the dataset which can affect the accuracy of the model\n",
    "print(len(data)) # in this case there are no duplicates\n",
    "\n",
    "import sklearn.utils \n",
    "import sklearn.model_selection\n",
    "\n",
    "training_data, test_data = sklearn.model_selection.train_test_split(data, shuffle='True', test_size=0.3)\n",
    "print(len(training_data), len(test_data))"
   ]
  },
  {
   "cell_type": "markdown",
   "metadata": {
    "id": "yCltyI0gj0CX"
   },
   "source": [
    "### d. Plot each feature against the target in the training set."
   ]
  },
  {
   "cell_type": "code",
   "execution_count": 15,
   "metadata": {
    "id": "5p4BuJQCj0CZ"
   },
   "outputs": [
    {
     "name": "stdout",
     "output_type": "stream",
     "text": [
      "0       ocean_proximity\n",
      "1              NEAR BAY\n",
      "702           <1H OCEAN\n",
      "955              INLAND\n",
      "1851         NEAR OCEAN\n",
      "8315             ISLAND\n",
      "Name: 9, dtype: object\n",
      "             0      1     2       3       4       5       6       7         8  \\\n",
      "1      -122.23  37.88  41.0   880.0   129.0   322.0   126.0  8.3252  452600.0   \n",
      "2      -122.22  37.86  21.0  7099.0  1106.0  2401.0  1138.0  8.3014  358500.0   \n",
      "3      -122.24  37.85  52.0  1467.0   190.0   496.0   177.0  7.2574  352100.0   \n",
      "4      -122.25  37.85  52.0  1274.0   235.0   558.0   219.0  5.6431  341300.0   \n",
      "5      -122.25  37.85  52.0  1627.0   280.0   565.0   259.0  3.8462  342200.0   \n",
      "...        ...    ...   ...     ...     ...     ...     ...     ...       ...   \n",
      "20636  -121.09  39.48  25.0  1665.0   374.0   845.0   330.0  1.5603   78100.0   \n",
      "20637  -121.21  39.49  18.0   697.0   150.0   356.0   114.0  2.5568   77100.0   \n",
      "20638  -121.22  39.43  17.0  2254.0   485.0  1007.0   433.0     1.7   92300.0   \n",
      "20639  -121.32  39.43  18.0  1860.0   409.0   741.0   349.0  1.8672   84700.0   \n",
      "20640  -121.24  39.37  16.0  2785.0   616.0  1387.0   530.0  2.3886   89400.0   \n",
      "\n",
      "       9  \n",
      "1      0  \n",
      "2      0  \n",
      "3      0  \n",
      "4      0  \n",
      "5      0  \n",
      "...   ..  \n",
      "20636  3  \n",
      "20637  3  \n",
      "20638  3  \n",
      "20639  3  \n",
      "20640  3  \n",
      "\n",
      "[20640 rows x 10 columns]\n"
     ]
    }
   ],
   "source": [
    "vals = whole_data_set.iloc[:,9].drop_duplicates(keep='first') # to find unique values of ocean_proximity\n",
    "print(vals)\n",
    "\n",
    "data.iloc[:,9] = data.iloc[:,9].map({'NEAR BAY':0, '<1H OCEAN':1, 'NEAR OCEAN':2,  'INLAND':3, 'ISLAND':4})\n",
    "print(data)\n"
   ]
  },
  {
   "cell_type": "code",
   "execution_count": 16,
   "metadata": {},
   "outputs": [
    {
     "name": "stdout",
     "output_type": "stream",
     "text": [
      "          0         1         2         3         4         5         6  \\\n",
      "0  1.000000 -0.924664 -0.108197  0.044568  0.069608  0.099773  0.055310   \n",
      "1 -0.924664  1.000000  0.011173 -0.036100 -0.066983 -0.108785 -0.071035   \n",
      "2 -0.108197  0.011173  1.000000 -0.361262 -0.320451 -0.296244 -0.302916   \n",
      "3  0.044568 -0.036100 -0.361262  1.000000  0.930380  0.857126  0.918484   \n",
      "4  0.069608 -0.066983 -0.320451  0.930380  1.000000  0.877747  0.979728   \n",
      "5  0.099773 -0.108785 -0.296244  0.857126  0.877747  1.000000  0.907222   \n",
      "6  0.055310 -0.071035 -0.302916  0.918484  0.979728  0.907222  1.000000   \n",
      "7 -0.015176 -0.079809 -0.119034  0.198050 -0.007723  0.004834  0.013033   \n",
      "8 -0.045967 -0.144160  0.105623  0.134153  0.049686 -0.024650  0.065843   \n",
      "9  0.108475  0.153237 -0.280764  0.026557  0.000239 -0.008443 -0.032032   \n",
      "\n",
      "          7         8         9  \n",
      "0 -0.015176 -0.045967  0.108475  \n",
      "1 -0.079809 -0.144160  0.153237  \n",
      "2 -0.119034  0.105623 -0.280764  \n",
      "3  0.198050  0.134153  0.026557  \n",
      "4 -0.007723  0.049686  0.000239  \n",
      "5  0.004834 -0.024650 -0.008443  \n",
      "6  0.013033  0.065843 -0.032032  \n",
      "7  1.000000  0.688075 -0.220857  \n",
      "8  0.688075  1.000000 -0.435062  \n",
      "9 -0.220857 -0.435062  1.000000  \n"
     ]
    },
    {
     "data": {
      "text/plain": [
       "<AxesSubplot:>"
      ]
     },
     "execution_count": 16,
     "metadata": {},
     "output_type": "execute_result"
    },
    {
     "data": {
      "image/png": "[encoded data removed]",
      "text/plain": [
       "<Figure size 432x288 with 2 Axes>"
      ]
     },
     "metadata": {
      "needs_background": "light"
     },
     "output_type": "display_data"
    }
   ],
   "source": [
    "data[0:] = data[0:].astype(float) # as the numeric values were stored as string object we converted them to float for computation of correlation\n",
    "data_hm = data.corr()\n",
    "print(data_hm)\n",
    "sns.heatmap(data_hm,cmap='Blues')"
   ]
  },
  {
   "cell_type": "markdown",
   "metadata": {
    "id": "JNm4lX80j0Ca"
   },
   "source": [
    "### e. Write down your observations on the above plots to find which features had maximum influence on the target."
   ]
  },
  {
   "cell_type": "code",
   "execution_count": 17,
   "metadata": {
    "id": "O-wDW8_1j0Cb"
   },
   "outputs": [],
   "source": [
    "# from heatmap we notice that median_income and ocean_proximity are most influencing the value of house \n",
    "# the degree of correlation for median_income is 0.688075 and for ocean_proximity its - 0.435062"
   ]
  },
  {
   "cell_type": "markdown",
   "metadata": {
    "id": "LwpkU5Haj0Cc"
   },
   "source": [
    "### f. What kind of a problem is this? (eg. classification, regression, clustering, etc)."
   ]
  },
  {
   "cell_type": "code",
   "execution_count": 18,
   "metadata": {
    "id": "DeorWXPHj0Cd"
   },
   "outputs": [],
   "source": [
    "# Its a regression problem as we have are using one(univariate) or more(multivariate) features to predict the value of the target"
   ]
  },
  {
   "cell_type": "markdown",
   "metadata": {
    "collapsed": true,
    "id": "Ku5jiCXcj0Ce"
   },
   "source": [
    "### g. Get the quick description of data using info() and description() functions."
   ]
  },
  {
   "cell_type": "code",
   "execution_count": 19,
   "metadata": {
    "id": "ZaS5m_hxj0Cg"
   },
   "outputs": [
    {
     "name": "stdout",
     "output_type": "stream",
     "text": [
      "<class 'pandas.core.frame.DataFrame'>\n",
      "Int64Index: 20640 entries, 1 to 20640\n",
      "Data columns (total 10 columns):\n",
      " #   Column  Non-Null Count  Dtype  \n",
      "---  ------  --------------  -----  \n",
      " 0   0       20640 non-null  float64\n",
      " 1   1       20640 non-null  float64\n",
      " 2   2       20640 non-null  float64\n",
      " 3   3       20640 non-null  float64\n",
      " 4   4       20433 non-null  float64\n",
      " 5   5       20640 non-null  float64\n",
      " 6   6       20640 non-null  float64\n",
      " 7   7       20640 non-null  float64\n",
      " 8   8       20640 non-null  float64\n",
      " 9   9       20640 non-null  float64\n",
      "dtypes: float64(10)\n",
      "memory usage: 1.7 MB\n",
      "None\n"
     ]
    },
    {
     "name": "stderr",
     "output_type": "stream",
     "text": [
      "C:\\Users\\DIVYAK~1\\AppData\\Local\\Temp/ipykernel_7704/3497758234.py:1: FutureWarning: null_counts is deprecated. Use show_counts instead\n",
      "  print(data.info(null_counts='False'))\n"
     ]
    }
   ],
   "source": [
    "print(data.info(null_counts='False'))\n",
    "# we notice that 20433 values are numeric values for total_bedrooms "
   ]
  },
  {
   "cell_type": "code",
   "execution_count": 20,
   "metadata": {},
   "outputs": [
    {
     "name": "stdout",
     "output_type": "stream",
     "text": [
      "                  0             1             2             3             4  \\\n",
      "count  20640.000000  20640.000000  20640.000000  20640.000000  20433.000000   \n",
      "mean    -119.569704     35.631861     28.639486   2635.763081    537.870553   \n",
      "std        2.003532      2.135952     12.585558   2181.615252    421.385070   \n",
      "min     -124.350000     32.540000      1.000000      2.000000      1.000000   \n",
      "25%     -121.800000     33.930000     18.000000   1447.750000    296.000000   \n",
      "50%     -118.490000     34.260000     29.000000   2127.000000    435.000000   \n",
      "75%     -118.010000     37.710000     37.000000   3148.000000    647.000000   \n",
      "max     -114.310000     41.950000     52.000000  39320.000000   6445.000000   \n",
      "\n",
      "                  5             6             7              8             9  \n",
      "count  20640.000000  20640.000000  20640.000000   20640.000000  20640.000000  \n",
      "mean    1425.476744    499.539680      3.870671  206855.816909      1.653343  \n",
      "std     1132.462122    382.329753      1.899822  115395.615874      1.041479  \n",
      "min        3.000000      1.000000      0.499900   14999.000000      0.000000  \n",
      "25%      787.000000    280.000000      2.563400  119600.000000      1.000000  \n",
      "50%     1166.000000    409.000000      3.534800  179700.000000      1.000000  \n",
      "75%     1725.000000    605.000000      4.743250  264725.000000      3.000000  \n",
      "max    35682.000000   6082.000000     15.000100  500001.000000      4.000000  \n"
     ]
    }
   ],
   "source": [
    "print(data.describe())"
   ]
  },
  {
   "cell_type": "markdown",
   "metadata": {
    "id": "bC_D53Sgj0Ch"
   },
   "source": [
    "### h. Perform min-max normalization on features and target."
   ]
  },
  {
   "cell_type": "code",
   "execution_count": 21,
   "metadata": {
    "id": "jklYt279j0Ci"
   },
   "outputs": [],
   "source": [
    "from sklearn.preprocessing import MinMaxScaler\n",
    "\n",
    "scaler = MinMaxScaler()\n",
    "norm_values = scaler.fit_transform(data[[7,8,9]])\n"
   ]
  },
  {
   "cell_type": "markdown",
   "metadata": {
    "id": "1T2I0Snbj0Ci"
   },
   "source": [
    "### i. Describe rules of NumPy Broadcasting."
   ]
  },
  {
   "cell_type": "code",
   "execution_count": 22,
   "metadata": {
    "id": "IaJgbblBj0Cq"
   },
   "outputs": [
    {
     "name": "stdout",
     "output_type": "stream",
     "text": [
      "[ 3 12 24]\n",
      "[[1. 1. 1. 1. 1.]\n",
      " [1. 1. 1. 1. 1.]\n",
      " [1. 1. 1. 1. 1.]\n",
      " [1. 1. 1. 1. 1.]]\n"
     ]
    },
    {
     "ename": "ValueError",
     "evalue": "operands could not be broadcast together with shapes (4,6) (3,5,4) ",
     "output_type": "error",
     "traceback": [
      "\u001b[1;31m---------------------------------------------------------------------------\u001b[0m",
      "\u001b[1;31mValueError\u001b[0m                                Traceback (most recent call last)",
      "\u001b[1;32mC:\\Users\\DIVYAK~1\\AppData\\Local\\Temp/ipykernel_7704/3103107403.py\u001b[0m in \u001b[0;36m<module>\u001b[1;34m\u001b[0m\n\u001b[0;32m     17\u001b[0m \u001b[0mq\u001b[0m \u001b[1;33m=\u001b[0m \u001b[0mnp\u001b[0m\u001b[1;33m.\u001b[0m\u001b[0mones\u001b[0m\u001b[1;33m(\u001b[0m\u001b[1;33m(\u001b[0m\u001b[1;36m3\u001b[0m\u001b[1;33m,\u001b[0m\u001b[1;36m5\u001b[0m\u001b[1;33m,\u001b[0m\u001b[1;36m4\u001b[0m\u001b[1;33m)\u001b[0m\u001b[1;33m)\u001b[0m\u001b[1;33m\u001b[0m\u001b[1;33m\u001b[0m\u001b[0m\n\u001b[0;32m     18\u001b[0m \u001b[1;31m# p.shape is (4,6) and q.shape is (3,5,4) so trailing dimension i.e 6 and 4 are not equal hence they are not compatible for broadcasting\u001b[0m\u001b[1;33m\u001b[0m\u001b[1;33m\u001b[0m\u001b[0m\n\u001b[1;32m---> 19\u001b[1;33m \u001b[0mprint\u001b[0m\u001b[1;33m(\u001b[0m\u001b[0mp\u001b[0m\u001b[1;33m+\u001b[0m\u001b[0mq\u001b[0m\u001b[1;33m)\u001b[0m\u001b[1;33m\u001b[0m\u001b[1;33m\u001b[0m\u001b[0m\n\u001b[0m",
      "\u001b[1;31mValueError\u001b[0m: operands could not be broadcast together with shapes (4,6) (3,5,4) "
     ]
    }
   ],
   "source": [
    "# broadcasting describes how numpy treats arrays with different shapes during arithmetic operations\n",
    "# while operating on arrays numpy checks the dimensions of the two arrays starting from rightmost dimension. two dimensions are compatible iff they are equal OR one of them is 1\n",
    "\n",
    "# eg 1 : when multiplying a scalar value with an array -> here the scalar value is broadcasted to be of same dimensions as array a \n",
    "a = np.array([1,4,8])\n",
    "b = 3\n",
    "print(a*b)\n",
    "\n",
    "# eg 2 : when dimension are compatible\n",
    "p = np.ones(5)\n",
    "q = np.ones((4,5))\n",
    "# p.shape is (5,) and q.shape is (4,5) so trailing dimension i.e 5 is equal and rest dimension are stretched to match the longer one \n",
    "print(p*q)\n",
    "\n",
    "#eg 3 : when dimension are not compatible\n",
    "p = np.ones((4,6))\n",
    "q = np.ones((3,5,4))\n",
    "# p.shape is (4,6) and q.shape is (3,5,4) so trailing dimension i.e 6 and 4 are not equal hence they are not compatible for broadcasting\n",
    "print(p+q)\n",
    "# comment last p and q declarations. That is done deliberately to show error"
   ]
  },
  {
   "cell_type": "markdown",
   "metadata": {
    "id": "f88vnxykj0Cr"
   },
   "source": [
    "### j. Describe the purpose of numpy.reshape with a valid example\n"
   ]
  },
  {
   "cell_type": "code",
   "execution_count": 23,
   "metadata": {},
   "outputs": [
    {
     "name": "stdout",
     "output_type": "stream",
     "text": [
      "oneD * twoD =  [[ 2  6 12]\n",
      " [20 35 48]\n",
      " [21 40 63]]\n",
      "\n",
      " oneD twoD =  [[ 21  32  41]\n",
      " [ 51  77  98]\n",
      " [ 81 122 155]]\n"
     ]
    }
   ],
   "source": [
    "# we have a 1D array and a 2D array and we need to perform matrix multiplication \n",
    "oneD = np.array([1,2,3,4,5,6,7,8,9])\n",
    "twoD = np.array([[2,3,4],[5,7,8],[3,5,7]])\n",
    "# 2D array has dimension \n",
    "# twoD.shape is (3,3) and oneD.shape is (9,) hance numpy broad cast rule doesnt apply so we need to reshape the oneD array\n",
    "\n",
    "oneD = oneD.reshape(3,3)\n",
    "print(\"oneD * twoD = \",oneD*twoD)\n",
    "print(\"\\n oneD twoD = \", np.dot(oneD,twoD))"
   ]
  },
  {
   "cell_type": "markdown",
   "metadata": {
    "id": "yXGbJJXaj0Cr"
   },
   "source": [
    "## Question 2\n",
    "Boston housing dataset is a famous dataset widely used for machine learning. In this problem, you will train\n",
    "a linear regression model that predicts the house price using the Boston housing dataset."
   ]
  },
  {
   "cell_type": "markdown",
   "metadata": {
    "id": "_nkmjR4Pj0Cs"
   },
   "source": [
    "### a. Load Boston house prices dataset. Plot each feature against the target in the training set.  Write down your observations on the above plots to find which features had maximum influence on the target.\n",
    "https://scikit-learn.org/stable/modules/generated/sklearn.datasets.load_boston.html\n"
   ]
  },
  {
   "cell_type": "code",
   "execution_count": null,
   "metadata": {
    "id": "xs8vnHhNj0Ct"
   },
   "outputs": [],
   "source": [
    "from sklearn import datasets\n",
    "bdata = datasets.load_boston()\n",
    "boston_data = pd.DataFrame(data=bdata['data'], columns=bdata['feature_names'])\n",
    "print(boston_data)\n",
    "\n",
    "'''CRIM - per capita crime rate by town\n",
    "ZN - proportion of residential land zoned for lots over 25,000 sq.ft.\n",
    "INDUS - proportion of non-retail business acres per town.\n",
    "CHAS - Charles River dummy variable (1 if tract bounds river; 0 otherwise)\n",
    "NOX - nitric oxides concentration (parts per 10 million)\n",
    "RM - average number of rooms per dwelling\n",
    "AGE - proportion of owner-occupied units built prior to 1940\n",
    "DIS - weighted distances to five Boston employment centres\n",
    "RAD - index of accessibility to radial highways\n",
    "TAX - full-value property-tax rate per $10,000\n",
    "PTRATIO - pupil-teacher ratio by town\n",
    "B - 1000(Bk - 0.63)^2 where Bk is the proportion of blacks by town\n",
    "LSTAT - % lower status of the population\n",
    "MEDV - Median value of owner-occupied homes in $1000's'''"
   ]
  },
  {
   "cell_type": "code",
   "execution_count": null,
   "metadata": {},
   "outputs": [],
   "source": [
    "boston_data['MEDV'] = bdata['target'] #adding MEDV values to the dataset\n",
    "data_hm = boston_data.corr()\n",
    "print(data_hm)\n",
    "sns.heatmap(data_hm,cmap='Blues')"
   ]
  },
  {
   "cell_type": "code",
   "execution_count": null,
   "metadata": {},
   "outputs": [],
   "source": [
    "# from the correlation matrix we notice that RM and LSTAT have most influence on the MEDV as their degree of correlation is 0.69 and -0.73 respectively.\n",
    "# negative degree of correlation emphasize that the value of one variable increases with decrease in other."
   ]
  },
  {
   "cell_type": "markdown",
   "metadata": {
    "id": "QKDN0Gdlj0Cu"
   },
   "source": [
    "### b. Store all the features and targets into X and Y respectively. How many instances and how many features does the dataset have? Split the data into 70% training set and 30% test set."
   ]
  },
  {
   "cell_type": "code",
   "execution_count": null,
   "metadata": {
    "id": "BTyIM39kj0Cu"
   },
   "outputs": [],
   "source": [
    "cols = ['CRIM','ZN','INDUS','CHAS','NOX','AGE','DIS','RAD','TAX','PTRATIO','B','RM','LSTAT']\n",
    "X = boston_data[cols] # ALL the features \n",
    "Y = boston_data['MEDV'] # target \n",
    "# print(X,Y)\n",
    "\n",
    "print(\"Instances in dataset : \",len(boston_data))\n",
    "print(\"Features in dataset : \",len(bdata['feature_names']))\n",
    "# totally the dataset has 13 features but using the heatmap plot we notice that LSTAT has most influence on target (MEDV) hence we use that for regression model \n",
    "# removing redundant features from dataset \n",
    "for col in ['CRIM','ZN','INDUS','CHAS','NOX','AGE','DIS','RAD','TAX','PTRATIO','B','RM']:\n",
    "    del boston_data[col]\n",
    "\n",
    "training_bdata, test_bdata = sklearn.model_selection.train_test_split(boston_data, shuffle='True', test_size=0.3, train_size=0.7)\n",
    "print(len(training_bdata), len(test_bdata))\n",
    "#print(training_bdata)\n",
    "#print(test_bdata)"
   ]
  },
  {
   "cell_type": "markdown",
   "metadata": {
    "id": "cv9f5tpCj0Cv"
   },
   "source": [
    "### c. Train a linear regression model using  selected feature."
   ]
  },
  {
   "cell_type": "code",
   "execution_count": null,
   "metadata": {
    "id": "a5j6OW_sj0Cv"
   },
   "outputs": [],
   "source": [
    "# as mentioned we are using only one feature LSTAT to train the model instead of RM and LSTAT\n",
    "\n",
    "from sklearn.linear_model import LinearRegression\n",
    "\n",
    "x = training_bdata['LSTAT'].values.reshape(-1,1)\n",
    "y = training_bdata['MEDV']\n",
    "print(x.shape)\n",
    "print(y.shape)\n",
    "model = LinearRegression()\n",
    "model.fit(x,y) # using training data to train the model i.e. fitting\n",
    "plt.plot(x,y)"
   ]
  },
  {
   "cell_type": "markdown",
   "metadata": {
    "id": "6V9WHA5Uj0Cw"
   },
   "source": [
    "### d. Test the model using the test set. Report sklearn.metrics.mean squared error and sklearn.metrics.r2 score between the predicting result and target."
   ]
  },
  {
   "cell_type": "code",
   "execution_count": null,
   "metadata": {
    "id": "ioFzIHfuj0Cw"
   },
   "outputs": [],
   "source": [
    "medv_predicted = model.predict(test_bdata['LSTAT'].values.reshape(-1,1))\n",
    "medv_test = test_bdata['MEDV']\n",
    "\n",
    "print(\"Mean squared error : \",sklearn.metrics.mean_squared_error(medv_predicted,medv_test))\n",
    "print(\"r2 score : \",sklearn.metrics.r2_score(medv_predicted,test_bdata['MEDV']))"
   ]
  },
  {
   "cell_type": "code",
   "execution_count": null,
   "metadata": {},
   "outputs": [],
   "source": []
  }
 ],
 "metadata": {
  "colab": {
   "name": "Homework2.ipynb",
   "provenance": []
  },
  "kernelspec": {
   "display_name": "Python 3 (ipykernel)",
   "language": "python",
   "name": "python3"
  },
  "language_info": {
   "codemirror_mode": {
    "name": "ipython",
    "version": 3
   },
   "file_extension": ".py",
   "mimetype": "text/x-python",
   "name": "python",
   "nbconvert_exporter": "python",
   "pygments_lexer": "ipython3",
   "version": "3.9.7"
  }
 },
 "nbformat": 4,
 "nbformat_minor": 1
}
