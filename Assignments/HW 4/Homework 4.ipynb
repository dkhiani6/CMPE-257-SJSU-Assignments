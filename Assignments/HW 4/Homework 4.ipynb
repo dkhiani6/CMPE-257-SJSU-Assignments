{
 "cells": [
  {
   "cell_type": "markdown",
   "metadata": {},
   "source": [
    "### Question 1"
   ]
  },
  {
   "cell_type": "markdown",
   "metadata": {},
   "source": [
    "Use the techniques you learned in class to solve this problem."
   ]
  },
  {
   "cell_type": "markdown",
   "metadata": {},
   "source": [
    "(a) Zoo Animal Classification data set will be used in this problem. Load the data set from below link.<br>\n",
    "https://www.kaggle.com/uciml/zoo-animal-classification"
   ]
  },
  {
   "cell_type": "code",
   "execution_count": 1,
   "metadata": {},
   "outputs": [],
   "source": [
    "import pandas as pd \n",
    "import numpy as np\n",
    "import matplotlib.pyplot as plt\n",
    "import seaborn as sns\n",
    "\n",
    "data = pd.read_csv(\"zoo.csv\", header=None)"
   ]
  },
  {
   "cell_type": "markdown",
   "metadata": {},
   "source": [
    "(b) List target names and feature names of Zoo Animal Classification dataset."
   ]
  },
  {
   "cell_type": "code",
   "execution_count": 2,
   "metadata": {},
   "outputs": [
    {
     "name": "stdout",
     "output_type": "stream",
     "text": [
      "Features are : animal_name, hair, feathers, eggs, milk, airborne, aquatic, predator, toothed, backbone, breathes, venomous, fins, legs, tail, domestic, catsize, \n",
      "\n",
      "\n",
      "target is :  class_type\n"
     ]
    }
   ],
   "source": [
    "features = data.iloc[0,:-1]\n",
    "print(\"Features are : \",end=\"\")\n",
    "for feature in list(features):\n",
    "    print(feature,end=\", \")\n",
    "    \n",
    "print(\"\\n\\n\")\n",
    "target = data.iloc[0,-1:] \n",
    "for i in list(target):\n",
    "    print(\"target is : \",i)"
   ]
  },
  {
   "cell_type": "markdown",
   "metadata": {},
   "source": [
    "(c) Split your data using model selection.train test split to 80% training data and 20% test data."
   ]
  },
  {
   "cell_type": "code",
   "execution_count": 3,
   "metadata": {},
   "outputs": [],
   "source": [
    "from sklearn.model_selection import train_test_split\n",
    " \n",
    "data.iloc[1:,0] = data.iloc[1:,0].map({'aardvark':11 ,'antelope':12 ,'bass':13 ,'bear':14 ,'boar':15 ,'buffalo':16 ,'calf':17 ,'carp':18 ,'catfish':19 ,'cavy':20 ,'cheetah':21 ,'chicken':22 ,'chub':23 ,'clam':24 ,'crab':25 ,'crayfish':26 ,'crow':27 ,'deer':28 ,'dogfish':29 ,'dolphin':30 ,'dove':31 ,'duck':32 ,'elephant':33 ,'flamingo':34 ,'flea':35 ,'frog':36 ,'fruitbat':37 ,'giraffe':38 ,'girl':39 ,'gnat':40 ,'goat':41 ,'gorilla':42 ,'gull':43 ,'haddock':44 ,'hamster':45 ,'hare':46 ,'hawk':47 ,'herring':48 ,'honeybee':49 ,'housefly':50 ,'kiwi':51 ,'ladybird':52 ,'lark':53 ,'leopard':54 ,'lion':55 ,'lobster':56 ,'lynx':57 ,'mink':58 ,'mole':59 ,'mongoose':60 ,'moth':61 ,'newt':62 ,'octopus':63 ,'opossum':64 ,'oryx':65 ,'ostrich':66 ,'parakeet':67 ,'penguin':68 ,'pheasant':69 ,'pike':70 ,'piranha':71 ,'pitviper':72 ,'platypus':73 ,'polecat':74 ,'pony':75 ,'porpoise':76 ,'puma':77 ,'pussycat':78 ,'raccoon':79 ,'reindeer':80 ,'rhea':81 ,'scorpion':82 ,'seahorse':83 ,'seal':84 ,'sealion':85 ,'seasnake':86 ,'seawasp':87 ,'skimmer':88 ,'skua':89 ,'slowworm':90 ,'slug':91 ,'sole':92 ,'sparrow':93 ,'squirrel':94 ,'starfish':95 ,'stingray':96 ,'swan':97 ,'termite':98 ,'toad':99 ,'tortoise':100 ,'tuatara':101 ,'tuna':102 ,'vampire':103 ,'vole':104 ,'vulture':105 ,'wallaby':106 ,'wasp':107 ,'wolf':108 ,'worm':109 ,'wren':110})\n",
    "# if there is better way to do this please suggest\n",
    "# print(data)\n",
    "X = data.iloc[1:,:-1]\n",
    "Y = data.iloc[1:,-1:]\n",
    "#print(X)\n",
    "#print(Y)\n"
   ]
  },
  {
   "cell_type": "code",
   "execution_count": 4,
   "metadata": {},
   "outputs": [
    {
     "name": "stdout",
     "output_type": "stream",
     "text": [
      "    0  1  2  3  4  5  6  7  8  9  10 11 12 13 14 15 16\n",
      "78  87  0  0  1  0  0  1  1  0  0  0  1  0  0  0  0  0\n",
      "70  79  1  0  0  1  0  0  1  1  1  1  0  0  4  1  0  1\n",
      "13  23  0  0  1  0  0  1  1  1  1  0  0  1  0  1  0  0\n",
      "46  55  1  0  0  1  0  0  1  1  1  1  0  0  4  1  0  1\n",
      "55  64  1  0  0  1  0  0  1  1  1  1  0  0  4  1  0  0\n",
      "30  39  1  0  0  1  0  0  1  1  1  1  0  0  2  0  1  1\n",
      "20  30  0  0  0  1  0  1  1  1  1  1  0  1  0  1  0  1\n",
      "90  99  0  0  1  0  0  1  0  1  1  1  0  0  4  0  0  0\n",
      "27  36  0  0  1  0  0  1  1  1  1  1  1  0  4  0  0  0\n",
      "48  57  1  0  0  1  0  0  1  1  1  1  0  0  4  1  0  1\n",
      "39  48  0  0  1  0  0  1  1  1  1  0  0  1  0  1  0  0\n",
      "38  47  0  1  1  0  1  0  1  0  1  1  0  0  2  1  0  0\n",
      "52  61  1  0  1  0  1  0  0  0  0  1  0  0  6  0  0  0\n",
      "1   11  1  0  0  1  0  0  1  1  1  1  0  0  4  0  0  1\n",
      "34  43  0  1  1  0  1  1  1  0  1  1  0  0  2  1  0  0\n",
      "11  21  1  0  0  1  0  0  1  1  1  1  0  0  4  1  0  1\n",
      "4   14  1  0  0  1  0  0  1  1  1  1  0  0  4  0  0  1\n",
      "26  36  0  0  1  0  0  1  1  1  1  1  0  0  4  0  0  0\n",
      "17  27  0  1  1  0  1  0  1  0  1  1  0  0  2  1  0  0\n",
      "88  97  0  1  1  0  1  1  0  0  1  1  0  0  2  1  0  1\n",
      "86  95  0  0  1  0  0  1  1  0  0  0  0  0  5  0  0  0\n",
      "   17\n",
      "78  7\n",
      "70  1\n",
      "13  4\n",
      "46  1\n",
      "55  1\n",
      "30  1\n",
      "20  1\n",
      "90  5\n",
      "27  5\n",
      "48  1\n",
      "39  4\n",
      "38  2\n",
      "52  6\n",
      "1   1\n",
      "34  2\n",
      "11  1\n",
      "4   1\n",
      "26  5\n",
      "17  2\n",
      "88  2\n",
      "86  7\n"
     ]
    }
   ],
   "source": [
    "x_train, x_test, y_train, y_test = train_test_split(X, Y, test_size=0.2)\n",
    "#print(x_train.shape)\n",
    "#print(x_test.shape)\n",
    "#print(y_train.shape)\n",
    "#print(y_test.shape)\n",
    "print(x_test)\n",
    "print(y_test)"
   ]
  },
  {
   "cell_type": "markdown",
   "metadata": {},
   "source": [
    "(d)  Use appropriate model and train with the training data set. Test your trained model on the test data set and classify the values of the samples in the test data set."
   ]
  },
  {
   "cell_type": "code",
   "execution_count": 5,
   "metadata": {},
   "outputs": [
    {
     "name": "stdout",
     "output_type": "stream",
     "text": [
      "Predicted : ['7' '1' '4' '1' '1' '1' '1' '3' '7' '1' '4' '2' '6' '1' '2' '1' '1' '5'\n",
      " '2' '2' '7']\n",
      "Actual values :    17\n",
      "78  7\n",
      "70  1\n",
      "13  4\n",
      "46  1\n",
      "55  1\n",
      "30  1\n",
      "20  1\n",
      "90  5\n",
      "27  5\n",
      "48  1\n",
      "39  4\n",
      "38  2\n",
      "52  6\n",
      "1   1\n",
      "34  2\n",
      "11  1\n",
      "4   1\n",
      "26  5\n",
      "17  2\n",
      "88  2\n",
      "86  7\n"
     ]
    }
   ],
   "source": [
    "from sklearn.linear_model import LogisticRegression\n",
    "from sklearn.preprocessing import OneHotEncoder, LabelEncoder\n",
    "   \n",
    "LRmodel = LogisticRegression(max_iter=2000, multi_class='auto',solver='lbfgs')\n",
    "y_train = np.array(y_train).reshape(len(y_train))\n",
    "LRmodel.fit(x_train, y_train)\n",
    "\n",
    "y_test_pred = LRmodel.predict(x_test)\n",
    "print(\"Predicted :\",y_test_pred)\n",
    "print(\"Actual values :\",y_test)"
   ]
  },
  {
   "cell_type": "markdown",
   "metadata": {},
   "source": [
    "(f) Calculate the accuracy and plot Confusion Matrix.\n",
    " <br>"
   ]
  },
  {
   "cell_type": "code",
   "execution_count": 6,
   "metadata": {
    "scrolled": true
   },
   "outputs": [
    {
     "name": "stdout",
     "output_type": "stream",
     "text": [
      "0.9047619047619048\n",
      "[[9 0 0 0 0 0 0]\n",
      " [0 4 0 0 0 0 0]\n",
      " [0 0 0 0 0 0 0]\n",
      " [0 0 0 2 0 0 0]\n",
      " [0 0 1 0 1 0 1]\n",
      " [0 0 0 0 0 1 0]\n",
      " [0 0 0 0 0 0 2]]\n"
     ]
    },
    {
     "data": {
      "image/png": "[encoded data removed]",
      "text/plain": [
       "<Figure size 432x288 with 2 Axes>"
      ]
     },
     "metadata": {
      "needs_background": "light"
     },
     "output_type": "display_data"
    }
   ],
   "source": [
    "from sklearn.metrics import accuracy_score\n",
    "from sklearn.metrics import confusion_matrix\n",
    "\n",
    "print( accuracy_score(y_test, y_test_pred))\n",
    "cm = confusion_matrix(y_test, y_test_pred)\n",
    "print(cm)\n",
    "\n",
    "ax = plt.axes()\n",
    "df_cm = cm\n",
    "sns.heatmap(df_cm, annot=True, annot_kws={\"size\": 10}, fmt='d',cmap=\"Blues\", ax = ax )\n",
    "ax.set_title('Confusion Matrix')\n",
    "plt.show()"
   ]
  },
  {
   "cell_type": "markdown",
   "metadata": {},
   "source": [
    "(e) Write your comments about the confusion matrix of your experiment."
   ]
  },
  {
   "cell_type": "markdown",
   "metadata": {},
   "source": [
    "The Model has a accuracy of 95% and only one class type is incorrectly predicted. \n",
    "In the test set there are 3 records of class_type = 7 but the model has predicted one record of class_type = 7 as class_type = 5. (results vary based on test set selected by train_test_split)"
   ]
  },
  {
   "cell_type": "markdown",
   "metadata": {},
   "source": [
    "### Question 2"
   ]
  },
  {
   "cell_type": "markdown",
   "metadata": {},
   "source": [
    "The handwritten digit data set MNIST is a subset of NIST, which can be used for simple implementation of machine learning algorithms. In this problem, you will use support vector machine to finish the classification of MNIST. <br>\n",
    "https://www.kaggle.com/c/digit-recognizer/data"
   ]
  },
  {
   "cell_type": "markdown",
   "metadata": {},
   "source": [
    "(a) Load the first 10K samples from \"train.csv\" and split them into training and testing data by 0.2. Use sklearn.svm to train a model with raw pixel features. Choose the linear kernel and set C = 5 and gamma= 0.05. Report the model."
   ]
  },
  {
   "cell_type": "code",
   "execution_count": 7,
   "metadata": {},
   "outputs": [
    {
     "name": "stdout",
     "output_type": "stream",
     "text": [
      "[1. 0. 4. 7. 3. 5. 8. 9. 2. 6.]\n"
     ]
    },
    {
     "data": {
      "text/plain": [
       "SVC(C=5, gamma=0.05, kernel='linear')"
      ]
     },
     "execution_count": 7,
     "metadata": {},
     "output_type": "execute_result"
    }
   ],
   "source": [
    "from sklearn import svm\n",
    "import sklearn\n",
    "import pandas as pd\n",
    "\n",
    "MNISTdata = pd.read_csv(\"train.csv\", header=None, nrows=10000,low_memory=False)\n",
    "#print(MNISTdata.shape)\n",
    "\n",
    "X = MNISTdata.iloc[1:,1:]\n",
    "Y = MNISTdata.iloc[1:,0]\n",
    "X = X.astype(float)\n",
    "Y = Y.astype(float)\n",
    "\n",
    "print(Y.unique())\n",
    "\n",
    "x_train, x_test, y_train, y_test = train_test_split(X, Y, test_size=0.2)\n",
    "\n",
    "clf = svm.SVC(kernel='linear', C=5, gamma=0.05)\n",
    "clf.fit(x_train, y_train)"
   ]
  },
  {
   "cell_type": "markdown",
   "metadata": {},
   "source": [
    "(b) How many support vectors does each class have? List the support vectors for each class and test the prediction accuracy by metrics.classification report."
   ]
  },
  {
   "cell_type": "code",
   "execution_count": 8,
   "metadata": {},
   "outputs": [
    {
     "name": "stdout",
     "output_type": "stream",
     "text": [
      "Predicted Y  [8. 7. 8. ... 9. 9. 0.]\n",
      "Support Vectors : [[0. 0. 0. ... 0. 0. 0.]\n",
      " [0. 0. 0. ... 0. 0. 0.]\n",
      " [0. 0. 0. ... 0. 0. 0.]\n",
      " ...\n",
      " [0. 0. 0. ... 0. 0. 0.]\n",
      " [0. 0. 0. ... 0. 0. 0.]\n",
      " [0. 0. 0. ... 0. 0. 0.]]\n",
      "Number of support vectors per class : [148 154 259 260 221 290 187 224 282 292]\n",
      "Accuracy:               precision    recall  f1-score   support\n",
      "\n",
      "         0.0       0.96      0.98      0.97       193\n",
      "         1.0       0.92      0.96      0.94       217\n",
      "         2.0       0.92      0.91      0.91       204\n",
      "         3.0       0.87      0.88      0.87       190\n",
      "         4.0       0.88      0.92      0.90       182\n",
      "         5.0       0.91      0.86      0.89       206\n",
      "         6.0       0.95      0.93      0.94       200\n",
      "         7.0       0.91      0.95      0.93       204\n",
      "         8.0       0.90      0.85      0.87       207\n",
      "         9.0       0.91      0.87      0.89       197\n",
      "\n",
      "    accuracy                           0.91      2000\n",
      "   macro avg       0.91      0.91      0.91      2000\n",
      "weighted avg       0.91      0.91      0.91      2000\n",
      "\n"
     ]
    }
   ],
   "source": [
    "y_pred_test = clf.predict(x_test)\n",
    "print(\"Predicted Y \",y_pred_test)\n",
    "\n",
    "#pd.options.display.max_rows = 4000\n",
    "#pd.options.display.max_columns = 500\n",
    "#pd.options.display.max_seq_items = 1000\n",
    "\n",
    "print(\"Support Vectors :\",clf.support_vectors_)\n",
    "#print(len(clf.support_vectors_))\n",
    "print(\"Number of support vectors per class :\",clf.n_support_)\n",
    "print(\"Accuracy:\",sklearn.metrics.classification_report(y_test,y_pred_test))"
   ]
  },
  {
   "cell_type": "markdown",
   "metadata": {},
   "source": [
    "(c) Repeat (a) and (b) with a RBF kernel and the same C and gamma."
   ]
  },
  {
   "cell_type": "code",
   "execution_count": null,
   "metadata": {},
   "outputs": [],
   "source": [
    "clfRBF = svm.SVC(kernel='rbf', C=5, gamma=5)\n",
    "clfRBF.fit(x_train, y_train)\n",
    "\n",
    "import warnings\n",
    "warnings.filterwarnings('ignore')\n",
    "\n",
    "y_pred_test = clfRBF.predict(x_test)\n",
    "print(y_pred_test)\n",
    "print(\"Support Vectors :\",clfRBF.support_vectors_)\n",
    "#print(len(clf.support_vectors_))\n",
    "print(\"Number of support vectors per class :\",clfRBF.n_support_)\n",
    "print(\"Accuracy:\",sklearn.metrics.classification_report(y_test,y_pred_test))\n"
   ]
  },
  {
   "cell_type": "markdown",
   "metadata": {},
   "source": [
    "(d) Compare the two models and comment on the results."
   ]
  },
  {
   "cell_type": "markdown",
   "metadata": {},
   "source": [
    "RBF Model is predicting 1 for every record which is inappropriate, hence f1-score for every other target value is 0. If kernel is linear every value is predicted some number of times and hence f1-score and precision can be found out.\n",
    "Hence RBF kernel is not suitable for this data."
   ]
  }
 ],
 "metadata": {
  "kernelspec": {
   "display_name": "Python 3 (ipykernel)",
   "language": "python",
   "name": "python3"
  },
  "language_info": {
   "codemirror_mode": {
    "name": "ipython",
    "version": 3
   },
   "file_extension": ".py",
   "mimetype": "text/x-python",
   "name": "python",
   "nbconvert_exporter": "python",
   "pygments_lexer": "ipython3",
   "version": "3.9.7"
  }
 },
 "nbformat": 4,
 "nbformat_minor": 2
}
